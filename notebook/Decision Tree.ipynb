{
 "cells": [
  {
   "cell_type": "code",
   "execution_count": 153,
   "metadata": {},
   "outputs": [
    {
     "name": "stdout",
     "output_type": "stream",
     "text": [
      "Index(['datum', 'tijd', 'plaats_sporthal', 'thuisteam', 'thuisclub', 'uitteam',\n",
      "       'uitclub', 'scheids1_hashed', 'scheids2_hashed', 'thuisscore',\n",
      "       'uitscore'],\n",
      "      dtype='object')\n",
      "Index(['index', 'datum', 'locatie', 'scheids1', 'scheids2', 'score', 'team',\n",
      "       'uit_thuis'],\n",
      "      dtype='object')\n",
      "[0 1 2 6 3 4 5 7]\n"
     ]
    }
   ],
   "source": [
    "import pandas as pd\n",
    "from matplotlib.pyplot import plot, title, show, legend\n",
    "from scipy import polyval\n",
    "from sklearn.model_selection import train_test_split\\\n",
    "\n",
    "temp = {\n",
    "    'Amersfoort' : 0,\n",
    "    'Utrecht' : 1,\n",
    "    'Tilburg' : 2,\n",
    "    'Amsterdam' : 3,\n",
    "    'Breda' : 4,\n",
    "    'DenHaag' : 5,\n",
    "    'Amersfoort(Vathorst)' : 6,\n",
    "    'Houten' : 7\n",
    "}\n",
    "inv_map = {v: k for k, v in temp.items()}\n",
    "\n",
    "df = pd.read_csv('teams.csv')\n",
    "df = df.drop(columns=['competitie_naam', 'genre', 'poule_naam', 'divisie', 'sporthal', 'plaats_uitclub',\n",
    "                     'plaats_thuisclub', 'seizoen'])\n",
    "print(df.columns)\n",
    "\n",
    "df2 = pd.read_csv('output.csv')\n",
    "print(df2.columns)\n",
    "df2.locatie = df2['locatie'].apply(lambda x: temp[x.replace(' ', '')])\n",
    "print(df2.locatie.unique())"
   ]
  },
  {
   "cell_type": "code",
   "execution_count": 166,
   "metadata": {},
   "outputs": [
    {
     "data": {
      "text/plain": [
       "DecisionTreeRegressor(criterion='mse', max_depth=None, max_features=None,\n",
       "           max_leaf_nodes=None, min_impurity_decrease=0.0,\n",
       "           min_impurity_split=None, min_samples_leaf=1,\n",
       "           min_samples_split=2, min_weight_fraction_leaf=0.0,\n",
       "           presort=False, random_state=0, splitter='best')"
      ]
     },
     "execution_count": 166,
     "metadata": {},
     "output_type": "execute_result"
    }
   ],
   "source": [
    "#1 Importing the libraries\n",
    "import numpy as np\n",
    "import matplotlib.pyplot as plt\n",
    "import pandas as pd\n",
    "#2 Importing the dataset\n",
    "dataset = df2[['score', 'locatie']]\n",
    "X = pd.DataFrame(dataset['locatie'])\n",
    "y = pd.DataFrame(dataset['score'])\n",
    "\n",
    "X_train, X_test, y_train, y_test = train_test_split(X, y, test_size=0.3, random_state=1) # 70% training and 30% test\n",
    "# It doesn't need to split the dataset because we have a small dataset\n",
    "#3 Fitting the Decision Tree Regression Model to the dataset\n",
    "# Create the Decision Tree regressor object here\n",
    "from sklearn.tree import DecisionTreeRegressor\n",
    "#DecisionTreeRegressor class has many parameters. Input only #random_state=0 or 42.\n",
    "regressor = DecisionTreeRegressor(random_state=0)\n",
    "#Fit the regressor object to the dataset.\n",
    "regressor.fit(X_train,y_train)"
   ]
  },
  {
   "cell_type": "code",
   "execution_count": 168,
   "metadata": {},
   "outputs": [
    {
     "name": "stdout",
     "output_type": "stream",
     "text": [
      "[3.33333333]\n"
     ]
    }
   ],
   "source": [
    "pred = regressor.predict(0)\n",
    "print(pred)"
   ]
  },
  {
   "cell_type": "code",
   "execution_count": 157,
   "metadata": {},
   "outputs": [
    {
     "data": {
      "image/png": "[encoded data removed]",
      "text/plain": [
       "<Figure size 432x288 with 1 Axes>"
      ]
     },
     "metadata": {},
     "output_type": "display_data"
    }
   ],
   "source": [
    "from matplotlib.pyplot import plot, title, show, legend, xlabel, ylabel, xticks\n",
    "\n",
    "x = df2.locatie.apply(lambda x: inv_map[x])\n",
    "xn = df2.score\n",
    "title('Uitslagen plot')\n",
    "plot(x, xn, 'k.')\n",
    "# plot(pred, 'r.')\n",
    "legend(['Uitslagen'])\n",
    "xlabel('locatie')\n",
    "xticks(rotation=90)\n",
    "ylabel('score')\n",
    "show()"
   ]
  },
  {
   "cell_type": "code",
   "execution_count": 160,
   "metadata": {},
   "outputs": [
    {
     "data": {
      "text/plain": [
       "11"
      ]
     },
     "execution_count": 160,
     "metadata": {},
     "output_type": "execute_result"
    }
   ],
   "source": [
    "len(pred)"
   ]
  },
  {
   "cell_type": "code",
   "execution_count": 180,
   "metadata": {},
   "outputs": [
    {
     "name": "stdout",
     "output_type": "stream",
     "text": [
      "[0 2]\n"
     ]
    },
    {
     "name": "stderr",
     "output_type": "stream",
     "text": [
      "/Users/leonard/anaconda3/lib/python3.6/site-packages/sklearn/preprocessing/label.py:151: DeprecationWarning: The truth value of an empty array is ambiguous. Returning False, but in future this will result in an error. Use `array.size > 0` to check that an array is not empty.\n",
      "  if diff:\n"
     ]
    },
    {
     "data": {
      "text/plain": [
       "array(['Amersfoort', 'Amsterdam'], dtype=object)"
      ]
     },
     "execution_count": 180,
     "metadata": {},
     "output_type": "execute_result"
    }
   ],
   "source": [
    "from sklearn import preprocessing\n",
    "\n",
    "le = preprocessing.LabelEncoder()\n",
    "le.fit(df.plaats_sporthal)\n",
    "coded = le.transform(['Amersfoort', 'Amsterdam'])\n",
    "print(coded)\n",
    "le.inverse_transform([0, 2])"
   ]
  },
  {
   "cell_type": "code",
   "execution_count": null,
   "metadata": {},
   "outputs": [],
   "source": []
  }
 ],
 "metadata": {
  "kernelspec": {
   "display_name": "Python 3",
   "language": "python",
   "name": "python3"
  },
  "language_info": {
   "codemirror_mode": {
    "name": "ipython",
    "version": 3
   },
   "file_extension": ".py",
   "mimetype": "text/x-python",
   "name": "python",
   "nbconvert_exporter": "python",
   "pygments_lexer": "ipython3",
   "version": "3.6.8"
  }
 },
 "nbformat": 4,
 "nbformat_minor": 2
}
