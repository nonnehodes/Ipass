{
 "cells": [
  {
   "cell_type": "code",
   "execution_count": 51,
   "metadata": {},
   "outputs": [],
   "source": [
    "import pandas as pd\n",
    "\n",
    "df = pd.read_csv('prediction.csv').drop(columns=['Unnamed: 0']).reset_index(drop=True)"
   ]
  },
  {
   "cell_type": "code",
   "execution_count": 53,
   "metadata": {},
   "outputs": [
    {
     "data": {
      "text/plain": [
       "Index(['index', 'scheids1_03b437bf861cd50b6be9baaffa85f0c8',\n",
       "       'scheids1_041b0d41cac9e4bae468c10a0d0c3e18',\n",
       "       'scheids1_045d8a65141bb3664cc1d6e65ee8ec5c',\n",
       "       'scheids1_1565a3d0c750ad737e86c8cdae4927e1',\n",
       "       'scheids1_203a6531f2ea38f37bef001d49d5228a',\n",
       "       'scheids1_292cb27c5102c8f13410b3ead400d59a',\n",
       "       'scheids1_2f94911872153729c2d60dab06d98ae3',\n",
       "       'scheids1_45f284466ef1e2542ee0aaf35a6e83b5',\n",
       "       'scheids1_4f872822235cd482aa202edcd5c94ab2',\n",
       "       'scheids1_52c46476e8eb3f8ad03df1ebb9bb8727',\n",
       "       'scheids1_56d01f82d5e18271d4509ce89a1f2339',\n",
       "       'scheids1_5d30a3eca945d8eb914813f87b2a9689',\n",
       "       'scheids1_60c49a5abca56ce4e305f56b35efefe2',\n",
       "       'scheids1_6726dc565f3cebd78423a258d2d5a2cd',\n",
       "       'scheids1_7375e9769477ca69d4b3aa06bbdca2ee',\n",
       "       'scheids1_7652402bc75dd6aae83926565d619198',\n",
       "       'scheids1_7ac8130b52c6f6ce2b283cf7c0bba49d',\n",
       "       'scheids1_7adfe943c89dced88eb9264427ee9685',\n",
       "       'scheids1_7d44fdb4cd369049c23112395b915226',\n",
       "       'scheids1_94ee58db40b3bb140a1e2afb65748fa1',\n",
       "       'scheids1_a86fc0259b7a07b0548b11403f2d6c65',\n",
       "       'scheids1_ba230ce4963134590e4bd05185e36281',\n",
       "       'scheids1_bc802ff6321cbbd91f6a779c128e384b',\n",
       "       'scheids1_c9725eee9c6751199b016a0f464ee4b3',\n",
       "       'scheids1_f4a29fda5ec9060b7deeaa08a67af3b0',\n",
       "       'scheids1_f8cd5ba4b8d3c0dade7c079fd87a3c3b',\n",
       "       'scheids2_06bd1f981bcec6deb2475c2ee558ba5b',\n",
       "       'scheids2_1f142fb403fbf225daab16e7619edff3',\n",
       "       'scheids2_384bf1cd70241d860239928266da7b5e',\n",
       "       'scheids2_3b8aff4f422864b873a9c726968110eb',\n",
       "       'scheids2_46548e170c3eec158f2dce5859a5bbb4',\n",
       "       'scheids2_492b1e577d5fd5add892c854adf60569',\n",
       "       'scheids2_52c46476e8eb3f8ad03df1ebb9bb8727',\n",
       "       'scheids2_581d3c9fefbf642cbb169505d0e7dc60',\n",
       "       'scheids2_5e2176b3aa970e3a944ac7f7cf7f5178',\n",
       "       'scheids2_6899c684b6bde42985cc37691a1ec4c4',\n",
       "       'scheids2_690ee7ed1e404e86740632bb82b57801',\n",
       "       'scheids2_7652402bc75dd6aae83926565d619198',\n",
       "       'scheids2_77e0cbd49bea59238990879a0541df8f',\n",
       "       'scheids2_782356bc86084494e137781fc42fc97a',\n",
       "       'scheids2_8a388ef2fadae3e726e956df8eeef2ce',\n",
       "       'scheids2_8c76698b23b8b80c24b7f12da58a9b5d',\n",
       "       'scheids2_9608e05bbec9f0e5009f1b795f221999',\n",
       "       'scheids2_ae328dd8832a9397869997825313668a',\n",
       "       'scheids2_b6329eee7490b370812da813393a8f38',\n",
       "       'scheids2_b9143c206c117f758c5c2dadf481596a',\n",
       "       'scheids2_ba230ce4963134590e4bd05185e36281',\n",
       "       'scheids2_be17171577738e0dfb43c18143024f42',\n",
       "       'scheids2_c42386b84ff1ede5be28aa82d9b5d7dc',\n",
       "       'scheids2_cdf559d793af7bead077d62f22d9f6b3',\n",
       "       'scheids2_d301912f2ad257ecce775a4d2ba31233',\n",
       "       'scheids2_d9e0377f24f45e4a6bc63d7e3fb2e8ec',\n",
       "       'scheids2_dcc0250ff093e4fcfc3191b6727d6d30',\n",
       "       'scheids2_e7323ae630ac7677d6bc7c5edbfe6040',\n",
       "       'scheids2_e8b586dae2dc4c685925de6bb697da45',\n",
       "       'scheids2_f168b49418df8cdc224f3921a00f886d',\n",
       "       'scheids2_f47bd99084ff83b5c0509f0234629370',\n",
       "       'scheids2_f4a29fda5ec9060b7deeaa08a67af3b0',\n",
       "       'scheids2_f8cd5ba4b8d3c0dade7c079fd87a3c3b'],\n",
       "      dtype='object')"
      ]
     },
     "execution_count": 53,
     "metadata": {},
     "output_type": "execute_result"
    }
   ],
   "source": [
    "df.columns"
   ]
  },
  {
   "cell_type": "code",
   "execution_count": null,
   "metadata": {},
   "outputs": [],
   "source": []
  }
 ],
 "metadata": {
  "kernelspec": {
   "display_name": "Python 3",
   "language": "python",
   "name": "python3"
  },
  "language_info": {
   "codemirror_mode": {
    "name": "ipython",
    "version": 3
   },
   "file_extension": ".py",
   "mimetype": "text/x-python",
   "name": "python",
   "nbconvert_exporter": "python",
   "pygments_lexer": "ipython3",
   "version": "3.6.8"
  }
 },
 "nbformat": 4,
 "nbformat_minor": 2
}
